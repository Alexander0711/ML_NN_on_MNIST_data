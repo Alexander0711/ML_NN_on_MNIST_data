{
 "cells": [
  {
   "cell_type": "code",
   "execution_count": 2,
   "metadata": {},
   "outputs": [],
   "source": [
    "import numpy # für Arrays\n",
    "import scipy.special # für Sigmoidfunktion expit()\n",
    "import matplotlib.pyplot\n",
    "%matplotlib inline\n",
    "\n",
    "#Klasse des Neuronalen Netzes definieren\n",
    "class neuralNetwork:\n",
    "    \n",
    "    #Initialisierung des Neuronalen Netzes\n",
    "    def __init__(self,inputnodes,hiddennodes,outputnodes,learningrate):\n",
    "        #Anzahl Knoten/nodes für jeden Layer festlegen\n",
    "        self.inodes = inputnodes\n",
    "        self.hnodes = hiddennodes\n",
    "        self.onodes = outputnodes\n",
    "        \n",
    "        #Verlinkung der Gewichtematrix wih und who\n",
    "        #Gewichte in den Arrays sind w_i_j, wo link aus node i und node j im nexten Layer\n",
    "        # w11 w21 \n",
    "        # w12 w22 etc...\n",
    "        self.wih = (numpy.random.rand(self.hnodes, self.inodes) -0.5)\n",
    "        self.who = (numpy.random.rand(self.onodes, self.hnodes) -0.5)\n",
    "        \n",
    "        #Lernrate \n",
    "        self.lr = learningrate\n",
    "        \n",
    "        # Aktivierungsfunktion Sigmoidfunktion\n",
    "        self.activation_function = lambda x: scipy.special.expit(x)\n",
    "            \n",
    "        pass\n",
    "    \n",
    "    #Training des Neuronalen Netzes\n",
    "    def train(self, inputs_list, targets_list):\n",
    "        \n",
    "        # Konvertieren der inputs list zu 2d array\n",
    "        inputs = numpy.array(inputs_list, ndmin=2).T\n",
    "        targets = numpy.array(targets_list, ndmin=2).T\n",
    "        \n",
    "        #Kalkulation der Input-Signale in den hidden Layer\n",
    "        hidden_inputs = numpy.dot(self.wih, inputs)\n",
    "        \n",
    "        #Kalkulation der Output-Signale aus dem hidden Layer mit Sigmoid Aktivierungsfunktion\n",
    "        hidden_outputs = self.activation_function(hidden_inputs)\n",
    "        \n",
    "        #Kalkulation der Input-Signale in den Ausgabe Layer (Final Layer)\n",
    "        final_inputs = numpy.dot(self.who, hidden_outputs)\n",
    "        \n",
    "        #Kalkulation der Output-Signale aus dem Ausgabe Layer mit Sigmoid Aktivierungsfunktion\n",
    "        final_outputs = self.activation_function(final_inputs)\n",
    "        \n",
    "        #Fehler ist Matrix Target minus matrix Actual \n",
    "        output_errors = targets - final_outputs\n",
    "        \n",
    "        #Fehler des versteckten Layers ist der Output_Errrors, aufgeteilt durch Gewichte und in Versteckter Schicht aktualisiert\n",
    "        hidden_errors = numpy.dot(self.who.T, output_errors)\n",
    "        \n",
    "        #Update der Gewichte zwischen Verstecktem Layer und Ausgabe Layer\n",
    "        self.who += self.lr * numpy.dot((output_errors * final_outputs * (1.0 - final_outputs)), numpy.transpose(hidden_outputs))\n",
    "        \n",
    "        #Update der Gewichte zwischen Input Layer und Verstecktem Layer\n",
    "        self.wih += self.lr * numpy.dot((hidden_errors * hidden_outputs * (1.0 - hidden_outputs)), numpy.transpose(inputs))\n",
    "        \n",
    "        pass\n",
    "    \n",
    "    #Abfrage des Neuronalen Netzes\n",
    "    def query(self, inputs_list):\n",
    "        \n",
    "        # Konvertieren der inputs list zu 2d array\n",
    "        inputs = numpy.array(inputs_list, ndmin=2).T\n",
    "        \n",
    "        #Kalkulation der Input-Signale in den hidden Layer\n",
    "        hidden_inputs = numpy.dot(self.wih, inputs)\n",
    "        \n",
    "        #Kalkulation der Output-Signale aus dem hidden Layer mit Sigmoid Aktivierungsfunktion\n",
    "        hidden_outputs = self.activation_function(hidden_inputs)\n",
    "        \n",
    "        #Kalkulation der Input-Signale in den Ausgabe Layer (Final Layer)\n",
    "        final_inputs = numpy.dot(self.who, hidden_outputs)\n",
    "        \n",
    "        #Kalkulation der Output-Signale aus dem Ausgabe Layer mit Sigmoid Aktivierungsfunktion\n",
    "        final_outputs = self.activation_function(final_inputs)\n",
    "        \n",
    "        return final_outputs \n",
    "        \n",
    "        pass\n",
    "    \n",
    "input_nodes = 784         # 784 Farbwerte für die Pixel\n",
    "hidden_nodes = 100\n",
    "output_nodes = 10\n",
    "\n",
    "learning_rate = 0.3\n",
    "\n",
    "n = neuralNetwork(input_nodes, hidden_nodes, output_nodes, learning_rate)\n",
    "\n",
    "training_data_file = open(\"mnist_test_10.csv\", 'r')\n",
    "training_data_list = training_data_file.readlines()\n",
    "training_data_file.close()\n",
    "\n",
    "# Training des Neural Networks\n",
    "\n",
    "for record in training_data_list:\n",
    "    all_values = record.split(',')\n",
    "    inputs = (numpy.asfarray(all_values[1:]) /255.0 *0.99) +0.01\n",
    "    targets = numpy.zeros(output_nodes) + 0.01\n",
    "    targets[int(all_values[0])] = 0.99\n",
    "    n.train(inputs, targets)\n",
    "    \n",
    "    pass\n"
   ]
  },
  {
   "cell_type": "code",
   "execution_count": 12,
   "metadata": {},
   "outputs": [],
   "source": [
    "test_data_file = open(\"mnist_test_10.csv\", 'r')\n",
    "test_data_list = test_data_file.readlines()\n",
    "test_data_file.close()"
   ]
  },
  {
   "cell_type": "code",
   "execution_count": null,
   "metadata": {},
   "outputs": [],
   "source": []
  },
  {
   "cell_type": "code",
   "execution_count": 4,
   "metadata": {},
   "outputs": [
    {
     "name": "stdout",
     "output_type": "stream",
     "text": [
      "7\n"
     ]
    }
   ],
   "source": [
    "all_values = test_data_list[0].split(',')\n",
    "print(all_values[0])"
   ]
  },
  {
   "cell_type": "code",
   "execution_count": 5,
   "metadata": {},
   "outputs": [
    {
     "data": {
      "text/plain": [
       "<matplotlib.image.AxesImage at 0x147ee9ddf08>"
      ]
     },
     "execution_count": 5,
     "metadata": {},
     "output_type": "execute_result"
    },
    {
     "data": {
      "image/png": "[encoded data removed]",
      "text/plain": [
       "<Figure size 432x288 with 1 Axes>"
      ]
     },
     "metadata": {
      "needs_background": "light"
     },
     "output_type": "display_data"
    }
   ],
   "source": [
    "image_array = numpy.asfarray(all_values[1:]).reshape((28,28))\n",
    "matplotlib.pyplot.imshow(image_array, cmap='Greys', interpolation='none')"
   ]
  },
  {
   "cell_type": "code",
   "execution_count": 6,
   "metadata": {},
   "outputs": [
    {
     "data": {
      "text/plain": [
       "array([[0.0338655 ],\n",
       "       [0.0586016 ],\n",
       "       [0.01157413],\n",
       "       [0.0282518 ],\n",
       "       [0.08131462],\n",
       "       [0.07073657],\n",
       "       [0.03051581],\n",
       "       [0.1769637 ],\n",
       "       [0.01086755],\n",
       "       [0.43331734]])"
      ]
     },
     "execution_count": 6,
     "metadata": {},
     "output_type": "execute_result"
    }
   ],
   "source": [
    "n.query((numpy.asfarray(all_values[1:]) / 255.0 * 0.99) + 0.01)"
   ]
  },
  {
   "cell_type": "code",
   "execution_count": null,
   "metadata": {},
   "outputs": [],
   "source": []
  },
  {
   "cell_type": "code",
   "execution_count": null,
   "metadata": {},
   "outputs": [],
   "source": []
  }
 ],
 "metadata": {
  "kernelspec": {
   "display_name": "Python 3",
   "language": "python",
   "name": "python3"
  },
  "language_info": {
   "codemirror_mode": {
    "name": "ipython",
    "version": 3
   },
   "file_extension": ".py",
   "mimetype": "text/x-python",
   "name": "python",
   "nbconvert_exporter": "python",
   "pygments_lexer": "ipython3",
   "version": "3.7.6"
  }
 },
 "nbformat": 4,
 "nbformat_minor": 2
}
